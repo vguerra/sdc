{
 "cells": [
  {
   "cell_type": "code",
   "execution_count": 5,
   "metadata": {
    "collapsed": false
   },
   "outputs": [
    {
     "data": {
      "text/plain": [
       "<matplotlib.image.AxesImage at 0x1150cbe90>"
      ]
     },
     "execution_count": 5,
     "metadata": {},
     "output_type": "execute_result"
    }
   ],
   "source": [
    "import matplotlib.pyplot as plt\n",
    "import matplotlib.image as mpimg\n",
    "import numpy as np\n",
    "\n",
    "# Read in the image and print out some stats\n",
    "image = (mpimg.imread('roadpic.jpg')*255).astype('uint8')\n",
    "\n",
    "# Grab the x and y size and make a copy of the image\n",
    "ysize = image.shape[0]\n",
    "xsize = image.shape[1]\n",
    "color_select = np.copy(image)\n",
    "line_image = np.copy(image)\n",
    "\n",
    "# Define color selection criteria\n",
    "# MODIFY THESE VARIABLES TO MAKE YOUR COLOR SELECTION\n",
    "red_threshold = 200\n",
    "green_threshold = 200\n",
    "blue_threshold = 200\n",
    "\n",
    "rgb_threshold = [red_threshold, green_threshold, blue_threshold]\n",
    "\n",
    "# Define the vertices of a triangular mask.\n",
    "# MODIFY THESE VALUES TO ISOLATE THE REGION \n",
    "# WHERE THE LANE LINES ARE IN THE IMAGE\n",
    "# left_bottom = [0, 539], right_bottom [900, 539], and apex = [475, 320]\n",
    "left_bottom = [50, ysize - 1]\n",
    "right_bottom = [xsize - 1 - 50, ysize - 1]\n",
    "apex = [(xsize - 1)/2, (ysize - 1)/2]\n",
    "\n",
    "# Perform a linear fit (y=Ax+B) to each of the three sides of the triangle\n",
    "# np.polyfit returns the coefficients [A, B] of the fit\n",
    "fit_left = np.polyfit((left_bottom[0], apex[0]), (left_bottom[1], apex[1]), 1)\n",
    "fit_right = np.polyfit((right_bottom[0], apex[0]), (right_bottom[1], apex[1]), 1)\n",
    "fit_bottom = np.polyfit((left_bottom[0], right_bottom[0]), (left_bottom[1], right_bottom[1]), 1)\n",
    "\n",
    "# Perform a \"bitwise or\" to mask pixels below the threshold\n",
    "color_thresholds = (image[:,:,0] < rgb_threshold[0]) | \\\n",
    "                    (image[:,:,1] < rgb_threshold[1]) | \\\n",
    "                    (image[:,:,2] < rgb_threshold[2])\n",
    "\n",
    "# Find the region inside the lines\n",
    "XX, YY = np.meshgrid(np.arange(0, xsize), np.arange(0, ysize))\n",
    "region_thresholds = (YY > (XX*fit_left[0] + fit_left[1])) & \\\n",
    "                    (YY > (XX*fit_right[0] + fit_right[1])) & \\\n",
    "                    (YY < (XX*fit_bottom[0] + fit_bottom[1]))\n",
    "                    \n",
    "# Mask color selection\n",
    "color_select[color_thresholds | ~region_thresholds] = [0, 0, 0]\n",
    "# Color pixels red where both color right and region selections met\n",
    "line_image[~color_thresholds & region_thresholds] = [255, 0, 0]\n",
    "\n",
    "# Display the image and show region and color selections\n",
    "plt.imshow(image)\n",
    "x = [left_bottom[0], right_bottom[0], apex[0], left_bottom[0]]\n",
    "y = [left_bottom[1], right_bottom[1], apex[1], left_bottom[1]]\n",
    "plt.plot(x, y, 'b--', lw=4)\n",
    "plt.imshow(color_select)\n",
    "plt.imshow(line_image)\n"
   ]
  },
  {
   "cell_type": "code",
   "execution_count": null,
   "metadata": {
    "collapsed": true
   },
   "outputs": [],
   "source": []
  }
 ],
 "metadata": {
  "kernelspec": {
   "display_name": "Python 2",
   "language": "python",
   "name": "python2"
  },
  "language_info": {
   "codemirror_mode": {
    "name": "ipython",
    "version": 2
   },
   "file_extension": ".py",
   "mimetype": "text/x-python",
   "name": "python",
   "nbconvert_exporter": "python",
   "pygments_lexer": "ipython2",
   "version": "2.7.12"
  }
 },
 "nbformat": 4,
 "nbformat_minor": 1
}
