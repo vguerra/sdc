{
 "cells": [
  {
   "cell_type": "markdown",
   "metadata": {},
   "source": [
    "# SVM Problem Set\n",
    "\n",
    "### Problem 1:\n",
    "\n",
    "Show that maximizing the margin is the same as minimizing the norm of the weight vector.\n",
    "\n",
    "### Solution:\n",
    "\n",
    "We have a plane that separates our data set, given by:\n",
    "$$ w^Tx_{i} + b = 0 $$\n",
    "and inequalities: \n",
    "$$ w^Tx_{i} +b >= 1 \\quad \\quad \\text {if $y_i = 1$} $$\n",
    "$$ w^Tx_{i} +b <= -1 \\quad \\quad \\text {if $y_i = -1$} $$\n",
    "\n",
    "the last two inequalities can be expressed as:\n",
    "$$ y_{i}(w^Tx_{i} +b) >= 1$$\n",
    "\n",
    "this means that if we take a $x_{i}$ that lies at the decision boundary we have:\n",
    "$$ y_{i}(w^Tx_{i} +b) - 1 = 0 \\quad \\quad (1)$$ \n",
    "\n",
    "Remember that what we are trying to do is to maximize the width of the hyperplane that separates our two classes.\n",
    "Lets assume we have to vectors $x_{a}$ and $x_{b}$ such that $x_{a}$ lies at the decision boundry between the hyperplane and our negative class and $x_{b}$ lies at the decision boundry between the hyperplane and our positive class. That means that subsititing on $(1)$:\n",
    "$$ w^Tx_a = -(1 + b) \\quad \\quad (2)$$\n",
    "$$ w^Tx_b = 1 - b \\quad \\quad (3)$$\n",
    "\n",
    "Now, the Width of the hyperplane can be computed as follows:\n",
    "$$ Width = (x_{b} - x_{a}) . \\hat{u} \\quad \\quad \\text{where $\\hat{u}$ is a unit vector}$$\n",
    "\n",
    "and we know that $w$ vector is a normal vector with respect to the hyperplane, we normalize $w$ to obtain the unit vector $\\hat{w}$. Therefore:\n",
    "$$Width = (x_{b} - x_{a}).\\frac{w}{||w||}$$\n",
    "\n",
    "Using (2) and (3) we simplify the width expression to:\n",
    "$$Width = \\frac{2}{||w||}$$\n",
    "\n",
    "If we intend to maximize $\\frac{2}{||w||}$, that means we need to minimize the denominator of that expression, therefore we can express the problem as a minimization of $||w||$, which is the same problem as: \n",
    "$$\\text{Minimize $(||w||)^{2}$}$$"
   ]
  },
  {
   "cell_type": "markdown",
   "metadata": {},
   "source": [
    "### Problem 2:\n",
    "\n",
    "Derive the dual formulation of SVM from the primal form using Lagrange multipliers-ignore slack variables.\n",
    "\n",
    "### Solution:\n",
    "\n",
    "To solve the constrained optimization problem in SVMs we introcude the Lagrange multipliers $a_n$ so that $a_n >= 0$. This gives us the equation:\n",
    "$$ L(w, b, a) = \\frac{||w||^2}{2} - \\sum_{i=1}^n a_i (y_i(w^Tx_i +b) - 1) \\quad \\quad (1)$$\n",
    "\n",
    "Then we compute the derivates of $L$ with respect to $w$ and $b$. \n",
    "$$\n",
    "\\begin{align}\n",
    "\\frac{\\partial{L(w, b, a)}}{\\partial{w}} = w - \\sum_{i=1}^n a_iy_ix_i \\\\\n",
    "\\frac{\\partial{L(w, b, a)}}{\\partial{b}} = -\\sum_{i=1}^n a_iy_i\n",
    "\\end{align}\n",
    "$$\n",
    "\n",
    "If we equal both derivates to $0$ we find that:\n",
    "$$\n",
    "\\begin{align}\n",
    "w = \\sum_{i=1}^n a_iy_ix_i \\quad \\quad (2)\\\\ \n",
    "\\sum_{i=1}^n a_iy_i = 0 \\quad \\quad (3)\n",
    "\\end{align}\n",
    "$$\n",
    "\n",
    "If we sustitute $(2)$ our findings in $(1)$:\n",
    "$$\n",
    "\\begin{align}\n",
    "L(w, b, a) = \\frac{||\\sum_{i=1}^n a_iy_ix_i||^2}{2} - \\sum_{i=1}^n a_i(y_i((\\sum_{j=1}^n a_jy_jx_j)xi + b) - 1) \\quad \\quad \\quad \\quad\\\\\n",
    "L(w, b, a) = \\frac{1}{2}\\sum_{i=1}^n a_iy_ix_i\\sum_{j=1}^n a_jy_jx_j - \\sum_{i=1}^n a_iy_ix_i\\sum_{j=1}^n a_jy_jx_j - b\\sum_{i=1}^n a_iy_i + \\sum_{i=1}^n a_i \\quad \\quad \\text{by (3) we see that our 3rd term is 0} \\\\\n",
    "L(w, b, a) = \\sum_{i=1}^n a_i - \\frac{1}{2}\\sum_{i=1}^n a_iy_ix_i\\sum_{j=1}^n a_jy_jx_j \\quad \\quad \\text{Which is the dual formulation of SVM}\n",
    "\\end{align}\n",
    "$$\n",
    "\n"
   ]
  },
  {
   "cell_type": "markdown",
   "metadata": {},
   "source": [
    "### Problem 3:\n",
    "\n",
    "Assume the linear kernel is replaced by a Radial Basis Function (RBF) kernel. How does the decision value $\\hat{y} in slide 43 change?\n",
    "\n",
    "### Solution:\n",
    "\n",
    "On slide 43 the $\\hat{y}$ is given by:\n",
    "\n",
    "$$\n",
    "\\hat{y} = sign(\\sum_{i \\in SV}\\hat{\\alpha_i}y_i(x_i^Tx) + b)\n",
    "$$\n",
    "\n",
    "If instead we use a Radial Basis Function as kernel of the form $K(\\vec{a}, \\vec{b}) = e^{-\\gamma[\\vec{a} - \\vec{b}]^2}$ we end up with with the following:\n",
    "\n",
    "$$\n",
    "\\hat{y} = sign(\\sum_{i \\in SV}\\hat{\\alpha_i}y_i(e^{-\\gamma[x_i - x]^2}) + b)\n",
    "$$\n"
   ]
  },
  {
   "cell_type": "markdown",
   "metadata": {},
   "source": [
    "### Problem 4:\n",
    "\n",
    "Download the 20Newsgroup dataset here: http://ana.cachopo.org/datasets-for-single-label-text-categorization and use the 20ng-train-no-stop.txt and 20ng-test-no-stop.txt versions (No stop words). Take only the lines corresponding to rec.sport.baseball & alt.atheism in both train and test set. Train a binary linear SVM classifier (set solver to 1 ) using liblinear on the above data.\n",
    "\n",
    "Plot a graph that shows how the training and test error (misclassification rate) vary as a function of the parameter C [0.01, 0.1, 1, 10, 100]\n",
    "\n",
    "Attempt to improve the classification error from the best known C setting from above and report on what worked.\t\n",
    "\n",
    "### Solution:\n",
    "\n",
    "We downloaded the pointed data set and filtered all lines to have only classes `rec.sport.baseball` `alt.atheism`. After filtering this are the number of points for each training and test sets:\n"
   ]
  },
  {
   "cell_type": "code",
   "execution_count": 53,
   "metadata": {
    "collapsed": false
   },
   "outputs": [
    {
     "name": "stdout",
     "output_type": "stream",
     "text": [
      "     716 20ng-test-no-stop-filtered.txt\n",
      "    1077 20ng-train-no-stop-filtered.txt\n"
     ]
    }
   ],
   "source": [
    "!wc -l 20ng-test-no-stop-filtered.txt\n",
    "!wc -l 20ng-train-no-stop-filtered.txt"
   ]
  },
  {
   "cell_type": "markdown",
   "metadata": {},
   "source": [
    "1077 text corpus for the train set and 716 for testing."
   ]
  },
  {
   "cell_type": "markdown",
   "metadata": {},
   "source": [
    "Now we proceed to transform the data to the libsvm format to feed our data sets to `train` and `predict`.\n",
    "\n",
    "Lets import all needed libraries and load the filtered data sets into matrices with two coloums."
   ]
  },
  {
   "cell_type": "code",
   "execution_count": 54,
   "metadata": {
    "collapsed": false
   },
   "outputs": [
    {
     "name": "stdout",
     "output_type": "stream",
     "text": [
      "Done!\n"
     ]
    }
   ],
   "source": [
    "import numpy as np\n",
    "from sklearn.datasets import dump_svmlight_file\n",
    "from sklearn.feature_extraction.text import TfidfVectorizer\n",
    "\n",
    "# for this case we are encoding rec.sport.baseball as 1\n",
    "# and alt.atheism\n",
    "def encode_labels(data):\n",
    "    return [1 if y == \"rec.sport.baseball\" else 0 for y in data]\n",
    "\n",
    "train_file = \"./20ng-train-no-stop-filtered.txt\"\n",
    "test_file = \"./20ng-test-no-stop-filtered.txt\"\n",
    "\n",
    "data = {}\n",
    "data['train'] = np.loadtxt(train_file, dtype=np.str, delimiter='\\t')\n",
    "data['test'] = np.loadtxt(test_file, dtype=np.str, delimiter='\\t')\n",
    "\n",
    "print \"Done!\""
   ]
  },
  {
   "cell_type": "markdown",
   "metadata": {},
   "source": [
    "For transforming the documents to numerical features we used a Tf-Id transformer included in `sklearn` that will translate our texts into numerical features. Another technique that we could have used is to simply vectorize each document ( we tokenize the documents and count how many times a given token appears in each document ), if we would feed our classifier with this counts it could be that the tokens that appear much ( probably carrying not much info ) would shadow the ones that appear less ( the ones that probably have much more information ). A Tf-Id transformer takes into account the frequency of a token in the whole document to avoid that.\n",
    "\n",
    "We proceed then to transform the data and dump it into the desired libsvm format:"
   ]
  },
  {
   "cell_type": "code",
   "execution_count": 55,
   "metadata": {
    "collapsed": false
   },
   "outputs": [
    {
     "name": "stdout",
     "output_type": "stream",
     "text": [
      "Done!\n"
     ]
    }
   ],
   "source": [
    "vectorizerOne = TfidfVectorizer()\n",
    "\n",
    "# transform train data set\n",
    "X_train = vectorizerOne.fit_transform(data['train'][:, 1])\n",
    "# transform test data set\n",
    "X_test = vectorizerOne.transform(data['test'][:, 1])\n",
    "\n",
    "# Enconding the labels to 1 and 0\n",
    "y_train = encode_labels(data['train'][:, 0])\n",
    "y_test = encode_labels(data['test'][:, 0])\n",
    "\n",
    "# we dump all into libsvm files.\n",
    "dump_svmlight_file(X_train, y_train, train_file + \".libsvm\", zero_based=False)\n",
    "dump_svmlight_file(X_test, y_test, test_file + \".libsvm\", zero_based=False)\n",
    "\n",
    "print \"Done!\""
   ]
  },
  {
   "cell_type": "markdown",
   "metadata": {},
   "source": [
    "Now that we have the data sets in the desired format, we proceed to train different models with different values of C (Which controls the trade-off errors on training set and margin maximization for low training error and a low testing error)."
   ]
  },
  {
   "cell_type": "code",
   "execution_count": 56,
   "metadata": {
    "collapsed": false
   },
   "outputs": [
    {
     "name": "stdout",
     "output_type": "stream",
     "text": [
      "using C=0.01\n",
      "\n",
      "optimization finished, #iter = 3\n",
      "Objective value = -8.935943\n",
      "nSV = 1077\n",
      "Accuracy = 97.7654% (700/716)\n",
      "Test Error: 0.0223463687151\n",
      "Accuracy = 99.8143% (1075/1077)\n",
      "Training Error: 0.00185701021356\n",
      "\n",
      "using C=0.1\n",
      "*\n",
      "optimization finished, #iter = 6\n",
      "Objective value = -40.983291\n",
      "nSV = 1042\n",
      "Accuracy = 98.324% (704/716)\n",
      "Test Error: 0.0167597765363\n",
      "Accuracy = 100% (1077/1077)\n",
      "Training Error: 0.0\n",
      "\n",
      "using C=1\n",
      "*\n",
      "optimization finished, #iter = 7\n",
      "Objective value = -85.363532\n",
      "nSV = 720\n",
      "Accuracy = 98.8827% (708/716)\n",
      "Test Error: 0.0111731843575\n",
      "Accuracy = 100% (1077/1077)\n",
      "Training Error: 0.0\n",
      "\n",
      "using C=10\n",
      "*\n",
      "optimization finished, #iter = 9\n",
      "Objective value = -103.255425\n",
      "nSV = 581\n",
      "Accuracy = 99.0223% (709/716)\n",
      "Test Error: 0.00977653631285\n",
      "Accuracy = 100% (1077/1077)\n",
      "Training Error: 0.0\n",
      "\n",
      "using C=100\n",
      "*\n",
      "optimization finished, #iter = 9\n",
      "Objective value = -105.848246\n",
      "nSV = 561\n",
      "Accuracy = 99.162% (710/716)\n",
      "Test Error: 0.00837988826816\n",
      "Accuracy = 100% (1077/1077)\n",
      "Training Error: 0.0\n",
      "\n"
     ]
    }
   ],
   "source": [
    "!./errors-for-C.sh"
   ]
  },
  {
   "cell_type": "markdown",
   "metadata": {},
   "source": [
    "For computing the error between our classification and real labels, the following code is used:\n",
    "```\n",
    "import sys\n",
    "import numpy as np\n",
    "from sklearn.datasets import load_svmlight_file\n",
    "\n",
    "data_file = sys.argv[1]\n",
    "output = sys.argv[2]\n",
    "\n",
    "y_pred = load_svmlight_file(data_file)[1]\n",
    "y = np.loadtxt(output)\n",
    "\n",
    "#If predicted labels are equal then 0\n",
    "#If they differ then 1 meaniing that we count an error.\n",
    "\n",
    "result = np.logical_xor(y_pred, y)\n",
    "print (1.0/len(result))*sum(result)\n",
    "```\n",
    "\n",
    "From the output we can see that we endup having the following table:\n",
    "\n",
    "| C    |  Test Error      |  Train Error     |\n",
    "|------|:----------------:|-----------------:|\n",
    "| 0.01 |  0.0223463687151 | 0.00185701021356 |\n",
    "| 0.1  |  0.0167597765363 | 0.0 |\n",
    "| 1    |  0.0111731843575 | 0.0 |\n",
    "| 10   | 0.00977653631285 | 0.0 |\n",
    "| 100  | 0.00837988826816 | 0.0 |\n",
    "\n",
    "If we plot the errors:\n",
    "\n"
   ]
  },
  {
   "cell_type": "code",
   "execution_count": 57,
   "metadata": {
    "collapsed": false
   },
   "outputs": [
    {
     "data": {
      "image/png": "[encoded data removed]",
      "text/plain": [
       "<matplotlib.figure.Figure at 0x10dfc1c50>"
      ]
     },
     "metadata": {},
     "output_type": "display_data"
    }
   ],
   "source": [
    "import numpy as np\n",
    "import matplotlib.pyplot as plt\n",
    "\n",
    "data = np.array([[0.01, 0.0223463687151, 0.00185701021356], [0.1, 0.0167597765363, 0.0],\n",
    "                [1, 0.0111731843575, 0.0], [10, 0.00977653631285, 0.0 ], [100, 0.00837988826816, 0.0]])\n",
    "\n",
    "plt.xlabel(\"C\")\n",
    "plt.ylabel(\"Errors\")\n",
    "\n",
    "x = data[:, 0]\n",
    "test_error = data[:, 1]\n",
    "train_error = data[:, 2]\n",
    "\n",
    "plt.semilogx(x, test_error, \n",
    "             basex=10,\n",
    "             color='darkred', \n",
    "             linewidth = 0.5, label='Test Error')\n",
    "plt.semilogx(x, train_error, \n",
    "             basex=10,\n",
    "             color='green', \n",
    "             linewidth = 0.5, label='Training Error')\n",
    "plt.grid(True)\n",
    "plt.legend()\n",
    "\n",
    "plt.show()"
   ]
  },
  {
   "cell_type": "markdown",
   "metadata": {},
   "source": [
    "We can see that the test error reduces as we increase C. Test Error reduces as a consequence of us penalizing more and more the wrong classification done by the model. The training error goes down to 0 as soon as we use C = 0.1. \n",
    "\n",
    "Given this results, we choose to use a C value of **100**. \n",
    "\n",
    "On the test set we get: \n",
    "\n",
    "`Accuracy = 99.162% (710/716)\n",
    "Test Error: 0.00837988826816\n",
    "Accuracy = 100% (1077/1077)\n",
    "Training Error: 0.0`\n",
    "\n",
    "And on the training set we get:\n",
    "\n",
    "`Accuracy = 100% (1077/1077)\n",
    "Training Error: 0.0`\n",
    "\n",
    "After experimenting with the Vectorizer we use to transform our text, we discovered that a way of improving the Accuracy and hence the Test Error is to use a sublinear tf scaling. Instead of using the term frequency, we use its logarithm. The idea behind this scaling is that it is commonly the case that if a token appears x times in a document, it is unlikely that it carries x times the significance of 1 occurrence.\n"
   ]
  },
  {
   "cell_type": "code",
   "execution_count": 58,
   "metadata": {
    "collapsed": false
   },
   "outputs": [
    {
     "name": "stdout",
     "output_type": "stream",
     "text": [
      "Done!\n"
     ]
    }
   ],
   "source": [
    "import numpy as np\n",
    "from sklearn.datasets import dump_svmlight_file\n",
    "from sklearn.feature_extraction.text import TfidfVectorizer\n",
    "\n",
    "# for this case we are encoding rec.sport.baseball as 1\n",
    "# and alt.atheism\n",
    "def encode_labels(data):\n",
    "    return [1 if y == \"rec.sport.baseball\" else 0 for y in data]\n",
    "\n",
    "train_file = \"./20ng-train-no-stop-filtered.txt\"\n",
    "test_file = \"./20ng-test-no-stop-filtered.txt\"\n",
    "\n",
    "data = {}\n",
    "data['train'] = np.loadtxt(train_file, dtype=np.str, delimiter='\\t')\n",
    "data['test'] = np.loadtxt(test_file, dtype=np.str, delimiter='\\t')\n",
    "\n",
    "# max_df 0.5\n",
    "# sublinear_tf=True\n",
    "vectorizerOne = TfidfVectorizer(sublinear_tf=True)\n",
    "X_train = vectorizerOne.fit_transform(data['train'][:, 1])\n",
    "\n",
    "#vectorizerTwo = TfidfVectorizer(sublinear_tf=True, max_df=0.5, stop_words=\"english\")\n",
    "X_test = vectorizerOne.transform(data['test'][:, 1])\n",
    "\n",
    "y_train = encode_labels(data['train'][:, 0])\n",
    "y_test = encode_labels(data['test'][:, 0])\n",
    "\n",
    "# we dump all into libsvm files.\n",
    "dump_svmlight_file(X_train, y_train, train_file + \".libsvm\", zero_based=False)\n",
    "dump_svmlight_file(X_test, y_test, test_file + \".libsvm\", zero_based=False)\n",
    "\n",
    "print \"Done!\""
   ]
  },
  {
   "cell_type": "code",
   "execution_count": 59,
   "metadata": {
    "collapsed": false
   },
   "outputs": [
    {
     "name": "stdout",
     "output_type": "stream",
     "text": [
      "using C=100\n",
      "*\n",
      "optimization finished, #iter = 8\n",
      "Objective value = -104.958603\n",
      "nSV = 593\n",
      "Accuracy = 99.4413% (712/716)\n",
      "Test Error: 0.00558659217877\n",
      "Accuracy = 100% (1077/1077)\n",
      "Training Error: 0.0\n",
      "\n"
     ]
    }
   ],
   "source": [
    "!./errors-for-100.sh"
   ]
  },
  {
   "cell_type": "markdown",
   "metadata": {},
   "source": [
    "#### Improvements\n",
    "\n",
    "Our Accuracy and Test Error improve from: \n",
    "`Accuracy = 99.162% (710/716)\n",
    "Test Error: 0.00837988826816`\n",
    "\n",
    "to \n",
    "\n",
    "`Accuracy = 99.4413% (712/716)\n",
    "Test Error: 0.00558659217877`\n"
   ]
  },
  {
   "cell_type": "markdown",
   "metadata": {},
   "source": [
    "### Problem 5\n",
    "\n",
    "Add a third class to the above two (rec.motorcycles). Now given a new datapoint you want to classify it as belonging to one of the three classes:\n",
    "\n",
    "* How would you adapt the binary SVM to solve this 3-class problem\n",
    "* Report on the number of positive/negative examples in the training data for each of those adaptations?\n",
    "\n",
    "#### Solution:\n",
    "\n",
    "In this case we use the text for classes `rec.motorcycles, rec.sport.baseball, alt.atheism`.\n",
    "\n",
    "To solve this, we present two appraoaches: \n",
    "\n",
    "### Approach 1: One vs. The rest\n",
    "\n",
    "For this solution we have to train 3 2-class SVMs. Each SVM will mark one of the classes as the possitive and the other two as negative. We then combine the output of all 3 SVMs as follows: \n",
    "\n",
    "$$ y(x) = max_x y_k(x) $$\n",
    "\n",
    "Taking the max of the results of all 3 SVMs.\n",
    "\n",
    "One of the problems of this approach is that the training sets might end up unballanced. For our training dataset we end up with the following distribution of positive/negative observations: \n",
    "\n",
    "Total of observations: 1675.\n",
    "\n",
    "| SMV: Posstive class | SVM: Negative classes | Possitive observations - % | Negative observations - % |\n",
    "|:----|:----|-----:|-----:|\n",
    "| alt.atheism        | rec.motorcycles, rec.sport.baseball | 480 - 28.6% | 1195 - 71.4% |\n",
    "| rec.motorcycles    | alt.atheism, rec.sport.baseball     | 598 - 35.7% | 1077 - 64.3% |\n",
    "| rec.sport.baseball | alt.atheism, rec.motorcycles        | 597 - 35.6  | 1078 - 64.4% |\n",
    "\n",
    "We see that the positive class has in all 3 SVMs end up being considerably less.\n",
    "\n",
    "### Approach 2: One vs One\n",
    "\n",
    "Here, we train again 3 different 2-class SVMs, on all possible pair of classes. To classify test points the class with highest number of votes among all 3 SVMs wins.\n",
    "\n",
    "We then have to construct 3 SVMs for which the following distribution of positive/negative observations is seen:\n",
    "\n",
    "| SMV: Posstive class | SMV: Negative class | Possitive observations - % | Negative observations - % |\n",
    "|:----|:----|-----:|-----:|\n",
    "| alt.atheism        | rec.motorcycles |480 - 44.5% | 598 - 55.5% |\n",
    "| rec.motorcycles    | rec.sport.baseball | 598 - 50.0% | 597 - 50.0% |\n",
    "| rec.sport.baseball | alt.atheism | 597 - 55.4  | 480 - 44.6% |\n",
    "\n",
    "This approach will use a  more balanced number of possitve/negative observations to train each of the SMVs, which will perform better as the approach listed above."
   ]
  },
  {
   "cell_type": "code",
   "execution_count": null,
   "metadata": {
    "collapsed": true
   },
   "outputs": [],
   "source": []
  }
 ],
 "metadata": {
  "kernelspec": {
   "display_name": "Python 2",
   "language": "python",
   "name": "python2"
  },
  "language_info": {
   "codemirror_mode": {
    "name": "ipython",
    "version": 2
   },
   "file_extension": ".py",
   "mimetype": "text/x-python",
   "name": "python",
   "nbconvert_exporter": "python",
   "pygments_lexer": "ipython2",
   "version": "2.7.12"
  }
 },
 "nbformat": 4,
 "nbformat_minor": 1
}
